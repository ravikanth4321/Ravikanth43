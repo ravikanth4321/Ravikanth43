{
  "cells": [
    {
      "cell_type": "markdown",
      "metadata": {
        "id": "view-in-github",
        "colab_type": "text"
      },
      "source": [
        "<a href=\"https://colab.research.google.com/github/ravikanth4321/Ravikanth43/blob/main/Copy_of_Day_1.ipynb\" target=\"_parent\"><img src=\"https://colab.research.google.com/assets/colab-badge.svg\" alt=\"Open In Colab\"/></a>"
      ]
    },
    {
      "cell_type": "markdown",
      "metadata": {
        "id": "eh5Ph74_HqpD"
      },
      "source": [
        "## how would you confimm that two strings have the same identity?"
      ]
    },
    {
      "cell_type": "code",
      "execution_count": null,
      "metadata": {
        "id": "oERbt__VktUg",
        "colab": {
          "base_uri": "https://localhost:8080/"
        },
        "outputId": "1c1e8937-135a-4b6f-d5be-0de663df161e"
      },
      "outputs": [
        {
          "output_type": "stream",
          "name": "stdout",
          "text": [
            "enter the string1 :ravi\n",
            "enter the string2 :ravi\n",
            "strings are of same identity\n"
          ]
        }
      ],
      "source": [
        "A1=input(\"enter the string1 :\")\n",
        "A2=input(\"enter the string2 :\")\n",
        "if A1==A2:\n",
        "  print(\"strings are of same identity\")\n",
        "else:\n",
        "  print(\"strings do not have identity\")"
      ]
    },
    {
      "cell_type": "markdown",
      "metadata": {
        "id": "xSfXJRgVHKOB"
      },
      "source": [
        "How to find the length and index of the string?"
      ]
    },
    {
      "cell_type": "code",
      "execution_count": null,
      "metadata": {
        "colab": {
          "base_uri": "https://localhost:8080/"
        },
        "id": "cuEJ9hZ_S4df",
        "outputId": "662e9773-18e5-407a-ccb2-db912b892e9a"
      },
      "outputs": [
        {
          "output_type": "stream",
          "name": "stdout",
          "text": [
            "4\n"
          ]
        }
      ],
      "source": [
        "str = \"ravi\"\n",
        "print(len(str))"
      ]
    },
    {
      "cell_type": "markdown",
      "metadata": {
        "id": "EGK-LzalIO_i"
      },
      "source": [
        "## how to check a string contain a specific substring"
      ]
    },
    {
      "cell_type": "code",
      "execution_count": null,
      "metadata": {
        "colab": {
          "base_uri": "https://localhost:8080/"
        },
        "id": "g1HYIC9gJ7Vi",
        "outputId": "781e95d5-2218-49ef-a5c2-89e6f211892f"
      },
      "outputs": [
        {
          "output_type": "stream",
          "name": "stdout",
          "text": [
            "enter the string :ravi\n",
            "enter the substring :ra\n",
            "The string is present in main string\n"
          ]
        }
      ],
      "source": [
        "a=input(\"enter the string :\")\n",
        "ab=input(\"enter the substring :\")\n",
        "if ab in a:\n",
        "  print(\"The string is present in main string\")\n",
        "else:\n",
        "  print(\"The string is not present in main string\")"
      ]
    },
    {
      "cell_type": "markdown",
      "metadata": {
        "id": "LmY6RXjoJF9h"
      },
      "source": [
        "## how to a take a string from backward with two step difference?\n"
      ]
    },
    {
      "cell_type": "code",
      "execution_count": null,
      "metadata": {
        "colab": {
          "base_uri": "https://localhost:8080/"
        },
        "id": "_C_pqVqBJ8AA",
        "outputId": "19248cb3-b1ba-4d30-fd2b-bff226ec1bd3"
      },
      "outputs": [
        {
          "output_type": "stream",
          "name": "stdout",
          "text": [
            "enter the string: ravi\n",
            "original string is: ravi\n",
            "String from backward with two step difference: ia\n"
          ]
        }
      ],
      "source": [
        "s=input(\"enter the string: \")\n",
        "a=s[::-2]\n",
        "print(\"original string is:\",s)\n",
        "print(\"String from backward with two step difference:\",a)"
      ]
    },
    {
      "cell_type": "markdown",
      "metadata": {
        "id": "7eg6JfyuJr_2"
      },
      "source": [
        "## how to find the index of the last element"
      ]
    },
    {
      "cell_type": "code",
      "execution_count": null,
      "metadata": {
        "colab": {
          "base_uri": "https://localhost:8080/"
        },
        "id": "T84ODp77J8zR",
        "outputId": "c2849be0-131a-4a42-999f-66f83c7d05a5"
      },
      "outputs": [
        {
          "output_type": "stream",
          "name": "stdout",
          "text": [
            "enter the string: cmrcet\n",
            "Index of last element is 3\n"
          ]
        }
      ],
      "source": [
        "a=input(\"enter the string: \")\n",
        "print(\"Index of last element is\", len(s)-1 )"
      ]
    },
    {
      "cell_type": "markdown",
      "metadata": {
        "id": "FTdxvLc1J0lv"
      },
      "source": [
        "## Write 2 ways to concatinate the string"
      ]
    },
    {
      "cell_type": "code",
      "execution_count": null,
      "metadata": {
        "id": "j8P9ODeTJ9Zz",
        "colab": {
          "base_uri": "https://localhost:8080/"
        },
        "outputId": "86b4d128-1934-4c8d-aaeb-55a8db884e47"
      },
      "outputs": [
        {
          "output_type": "stream",
          "name": "stdout",
          "text": [
            "Welcome Ravi\n"
          ]
        }
      ],
      "source": [
        "r1 = \"Welcome\"\n",
        "r2 = \"Ravi\"\n",
        "print(\"% s % s\" % (r1, r2))"
      ]
    },
    {
      "cell_type": "code",
      "source": [
        "r1=input(\"enter the string1: \")\n",
        "r2=input(\"enter the string2: \")\n",
        "print(r1+r2)"
      ],
      "metadata": {
        "colab": {
          "base_uri": "https://localhost:8080/"
        },
        "id": "jONNM2BiKcJM",
        "outputId": "0d0cb4b3-a338-4e8b-d88a-6a04e7a46507"
      },
      "execution_count": null,
      "outputs": [
        {
          "output_type": "stream",
          "name": "stdout",
          "text": [
            "enter the string1: ravi\n",
            "enter the string2: kanth\n",
            "ravikanth\n"
          ]
        }
      ]
    }
  ],
  "metadata": {
    "colab": {
      "provenance": [],
      "include_colab_link": true
    },
    "kernelspec": {
      "display_name": "Python 3",
      "name": "python3"
    },
    "language_info": {
      "name": "python"
    }
  },
  "nbformat": 4,
  "nbformat_minor": 0
}