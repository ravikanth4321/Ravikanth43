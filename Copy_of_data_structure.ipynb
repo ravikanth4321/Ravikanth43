{
  "nbformat": 4,
  "nbformat_minor": 0,
  "metadata": {
    "colab": {
      "provenance": [],
      "include_colab_link": true
    },
    "kernelspec": {
      "name": "python3",
      "display_name": "Python 3"
    },
    "language_info": {
      "name": "python"
    }
  },
  "cells": [
    {
      "cell_type": "markdown",
      "metadata": {
        "id": "view-in-github",
        "colab_type": "text"
      },
      "source": [
        "<a href=\"https://colab.research.google.com/github/ravikanth4321/Ravikanth43/blob/main/Copy_of_data_structure.ipynb\" target=\"_parent\"><img src=\"https://colab.research.google.com/assets/colab-badge.svg\" alt=\"Open In Colab\"/></a>"
      ]
    },
    {
      "cell_type": "markdown",
      "source": [
        "## 1.Difference between the list and tuple?"
      ],
      "metadata": {
        "id": "HN6tCq60j2mQ"
      }
    },
    {
      "cell_type": "code",
      "source": [
        "marks =  [19, 26, 23]\n",
        "print(marks)"
      ],
      "metadata": {
        "colab": {
          "base_uri": "https://localhost:8080/"
        },
        "id": "OcOXHFIt3O3r",
        "outputId": "22f6a64f-6de5-49ca-9577-2e71ccecb214"
      },
      "execution_count": null,
      "outputs": [
        {
          "output_type": "stream",
          "name": "stdout",
          "text": [
            "[19, 26, 23]\n"
          ]
        }
      ]
    },
    {
      "cell_type": "code",
      "source": [
        "Tuple = (\"ravi\", \"raju\", \"mari\")\n",
        "print(Tuple)"
      ],
      "metadata": {
        "id": "Cw8ffkhMk6RQ",
        "colab": {
          "base_uri": "https://localhost:8080/"
        },
        "outputId": "5c070207-86a6-4519-cb46-54bf551cf489"
      },
      "execution_count": null,
      "outputs": [
        {
          "output_type": "stream",
          "name": "stdout",
          "text": [
            "('ravi', 'raju', 'mari')\n"
          ]
        }
      ]
    },
    {
      "cell_type": "markdown",
      "source": [
        "## 2.How list is different from an array"
      ],
      "metadata": {
        "id": "uWhJG7hzk6Ov"
      }
    },
    {
      "cell_type": "code",
      "source": [
        "from array import array\n",
        "my_array = array('B', [1, 2, 3])\n",
        "print(my_array)\n",
        "my_array.append(5)\n",
        "print(my_array)"
      ],
      "metadata": {
        "id": "MowyCcINo4Mn",
        "colab": {
          "base_uri": "https://localhost:8080/"
        },
        "outputId": "c361150e-794c-45eb-8ca9-d351d1d090ad"
      },
      "execution_count": null,
      "outputs": [
        {
          "output_type": "stream",
          "name": "stdout",
          "text": [
            "array('B', [1, 2, 3])\n",
            "array('B', [1, 2, 3, 5])\n"
          ]
        }
      ]
    },
    {
      "cell_type": "markdown",
      "source": [],
      "metadata": {
        "id": "1uPEIFbxmQwt"
      }
    },
    {
      "cell_type": "markdown",
      "source": [
        "## 3. Use the python list append(),copy(), clear, count, extends(), index(), insert(), pop(), reverse(), sort(), min(), max(),and sum()"
      ],
      "metadata": {
        "id": "_0Rn7JQSk6M1"
      }
    },
    {
      "cell_type": "code",
      "source": [
        "my_list = [3, 1, 4, 1, 5]\n",
        "my_list.append(8)\n",
        "print(\"After append(8):\", my_list)"
      ],
      "metadata": {
        "colab": {
          "base_uri": "https://localhost:8080/"
        },
        "id": "W0c_nmRa3buC",
        "outputId": "0eccfa1d-6189-4ac9-e9c0-ca8520e20fb9"
      },
      "execution_count": null,
      "outputs": [
        {
          "output_type": "stream",
          "name": "stdout",
          "text": [
            "After append(8): [3, 1, 4, 1, 5, 8]\n"
          ]
        }
      ]
    },
    {
      "cell_type": "code",
      "source": [
        "my_list = [3, 1, 4, 1, 5]\n",
        "copied_list = my_list.copy()\n",
        "print(\"Copied list:\", copied_list)"
      ],
      "metadata": {
        "colab": {
          "base_uri": "https://localhost:8080/"
        },
        "id": "MzKaR6Yd3yn7",
        "outputId": "c1aca3e5-acf2-4ea8-9446-06a5c7d020d1"
      },
      "execution_count": null,
      "outputs": [
        {
          "output_type": "stream",
          "name": "stdout",
          "text": [
            "Copied list: [3, 1, 4, 1, 5]\n"
          ]
        }
      ]
    },
    {
      "cell_type": "code",
      "source": [
        "my_list = [3, 1, 4, 1, 5]\n",
        "my_list.clear()\n",
        "print(\"After clear():\", my_list)"
      ],
      "metadata": {
        "colab": {
          "base_uri": "https://localhost:8080/"
        },
        "id": "FMD0ceNE39bf",
        "outputId": "b402bbbf-5668-4279-d0a3-a5c6cc01ef57"
      },
      "execution_count": null,
      "outputs": [
        {
          "output_type": "stream",
          "name": "stdout",
          "text": [
            "After clear(): []\n"
          ]
        }
      ]
    },
    {
      "cell_type": "code",
      "source": [
        "my_list = [3, 1, 4, 1, 5]\n",
        "my_list.extend([1, 2, 3])\n",
        "print(\"After extend([1, 2, 3]):\", my_list)"
      ],
      "metadata": {
        "colab": {
          "base_uri": "https://localhost:8080/"
        },
        "id": "IpLrCUMy4Elr",
        "outputId": "7b068d97-c048-42b2-e1f3-80a70177217d"
      },
      "execution_count": null,
      "outputs": [
        {
          "output_type": "stream",
          "name": "stdout",
          "text": [
            "After extend([1, 2, 3]): [3, 1, 4, 1, 5, 1, 2, 3]\n"
          ]
        }
      ]
    },
    {
      "cell_type": "code",
      "source": [
        "my_list = [3, 1, 4, 1, 5]\n",
        "index_of_4 = my_list.index(4)\n",
        "print(\"Index of 4:\", index_of_4)"
      ],
      "metadata": {
        "colab": {
          "base_uri": "https://localhost:8080/"
        },
        "id": "y3GPFEVP4J2R",
        "outputId": "881c67fe-1758-4de6-dab2-a75fe6655845"
      },
      "execution_count": null,
      "outputs": [
        {
          "output_type": "stream",
          "name": "stdout",
          "text": [
            "Index of 4: 2\n"
          ]
        }
      ]
    },
    {
      "cell_type": "code",
      "source": [
        "my_list = [3, 1, 4, 1, 5]\n",
        "my_list.insert(1, 7)\n",
        "print(\"After insert(1, 7):\", my_list)"
      ],
      "metadata": {
        "colab": {
          "base_uri": "https://localhost:8080/"
        },
        "id": "mibzQ-zV4RoV",
        "outputId": "e7bd2b6a-5374-4a5a-9782-a65c961a40f0"
      },
      "execution_count": null,
      "outputs": [
        {
          "output_type": "stream",
          "name": "stdout",
          "text": [
            "After insert(1, 7): [3, 7, 1, 4, 1, 5]\n"
          ]
        }
      ]
    },
    {
      "cell_type": "code",
      "source": [
        "my_list = [3, 1, 4, 1, 5]\n",
        "popped_element = my_list.pop(3)\n",
        "print(\"Popped element at index 3:\", popped_element)\n",
        "print(\"After pop(3):\", my_list)"
      ],
      "metadata": {
        "colab": {
          "base_uri": "https://localhost:8080/"
        },
        "id": "v1PxpBEg4W3V",
        "outputId": "54cb3056-61bd-473b-d865-0f11ce7a8c39"
      },
      "execution_count": null,
      "outputs": [
        {
          "output_type": "stream",
          "name": "stdout",
          "text": [
            "Popped element at index 3: 1\n",
            "After pop(3): [3, 1, 4, 5]\n"
          ]
        }
      ]
    },
    {
      "cell_type": "code",
      "source": [
        "my_list = [3, 1, 4, 1, 5]\n",
        "my_list.reverse()\n",
        "print(\"After reverse():\", my_list)"
      ],
      "metadata": {
        "colab": {
          "base_uri": "https://localhost:8080/"
        },
        "id": "qTqk8BVn4cRW",
        "outputId": "2153db28-bda1-4267-f1d9-018294eacb04"
      },
      "execution_count": null,
      "outputs": [
        {
          "output_type": "stream",
          "name": "stdout",
          "text": [
            "After reverse(): [5, 1, 4, 1, 3]\n"
          ]
        }
      ]
    },
    {
      "cell_type": "code",
      "source": [
        "my_list = [3, 1, 4, 1, 5]\n",
        "my_list.sort()\n",
        "print(\"After sort():\", my_list)"
      ],
      "metadata": {
        "colab": {
          "base_uri": "https://localhost:8080/"
        },
        "id": "mtljTDUX4ivG",
        "outputId": "e434b216-47a5-4872-9ccf-aa1f0b65adab"
      },
      "execution_count": null,
      "outputs": [
        {
          "output_type": "stream",
          "name": "stdout",
          "text": [
            "After sort(): [1, 1, 3, 4, 5]\n"
          ]
        }
      ]
    },
    {
      "cell_type": "code",
      "source": [
        "my_list = [3, 1, 4, 1, 5]\n",
        "minimum_value = min(my_list)\n",
        "print(\"Minimum value:\", minimum_value)"
      ],
      "metadata": {
        "colab": {
          "base_uri": "https://localhost:8080/"
        },
        "id": "QIpU3eFB4ook",
        "outputId": "3e5b66d2-3102-4a23-a830-6c4bf01fbb95"
      },
      "execution_count": null,
      "outputs": [
        {
          "output_type": "stream",
          "name": "stdout",
          "text": [
            "Minimum value: 1\n"
          ]
        }
      ]
    },
    {
      "cell_type": "code",
      "source": [
        "my_list = [3, 1, 4, 1, 5]\n",
        "maximum_value = max(my_list)\n",
        "print(\"Maximum value:\", maximum_value)"
      ],
      "metadata": {
        "colab": {
          "base_uri": "https://localhost:8080/"
        },
        "id": "2BtWG84q4uOq",
        "outputId": "9c55f38a-1ecf-441b-e000-608b99d3c637"
      },
      "execution_count": null,
      "outputs": [
        {
          "output_type": "stream",
          "name": "stdout",
          "text": [
            "Maximum value: 5\n"
          ]
        }
      ]
    },
    {
      "cell_type": "code",
      "source": [
        "my_list = [3, 1, 4, 1, 5]\n",
        "sum_of_elements = sum(my_list)\n",
        "print(\"Sum of elements:\", sum_of_elements)"
      ],
      "metadata": {
        "colab": {
          "base_uri": "https://localhost:8080/"
        },
        "id": "ep7yzoQo4zQR",
        "outputId": "4ea30584-3e63-4e33-f6f5-7af26569d224"
      },
      "execution_count": null,
      "outputs": [
        {
          "output_type": "stream",
          "name": "stdout",
          "text": [
            "Sum of elements: 14\n"
          ]
        }
      ]
    },
    {
      "cell_type": "markdown",
      "source": [
        "## 4, How would you divide the list into two parts?"
      ],
      "metadata": {
        "id": "W9xfjUWak6J_"
      }
    },
    {
      "cell_type": "code",
      "source": [
        "my_list = [1, 2, 3, 4, 5, 6, 7, 8, 9, 10]\n",
        "midpoint = len(my_list) // 2\n",
        "first_part = my_list[:midpoint]\n",
        "second_part = my_list[midpoint:]\n",
        "print(\"Original List:\", my_list)\n",
        "print(\"First Part:\", first_part)\n",
        "print(\"Second Part:\", second_part)"
      ],
      "metadata": {
        "colab": {
          "base_uri": "https://localhost:8080/"
        },
        "id": "rc9A2Y-e3djX",
        "outputId": "6f8aa58b-218f-47e7-f701-2df9b80563a9"
      },
      "execution_count": null,
      "outputs": [
        {
          "output_type": "stream",
          "name": "stdout",
          "text": [
            "Original List: [1, 2, 3, 4, 5, 6, 7, 8, 9, 10]\n",
            "First Part: [1, 2, 3, 4, 5]\n",
            "Second Part: [6, 7, 8, 9, 10]\n"
          ]
        }
      ]
    },
    {
      "cell_type": "markdown",
      "source": [
        "## 5. how to filter the multiple of 3 from a given list and them remove the odd number from the new filtered list.\n",
        "Eg A = [1,2,3,4,5,6,7,8,9,21,23,24]\n",
        "Filter_lsit = [3,6,9,21,24]\n",
        "output_list = [6,24]"
      ],
      "metadata": {
        "id": "Qb1mVGfnk6G5"
      }
    },
    {
      "cell_type": "code",
      "source": [
        "list = [1, 2, 3, 4, 5, 6, 7, 8, 9, 10]\n",
        "multiples_of_3 = [num for num in list if num % 3 == 0]\n",
        "filtered_list = [num for num in multiples_of_3 if num % 2 == 0]\n",
        "print(\"Original List:\", list)\n",
        "print(\"Multiples of 3:\", multiples_of_3)\n",
        "print(\"Filtered List (even multiples of 3):\", filtered_list)"
      ],
      "metadata": {
        "colab": {
          "base_uri": "https://localhost:8080/"
        },
        "id": "XvFYxKOh5FR1",
        "outputId": "ac23189e-ed2b-4a5a-8307-6fdcdccb0e52"
      },
      "execution_count": null,
      "outputs": [
        {
          "output_type": "stream",
          "name": "stdout",
          "text": [
            "Original List: [1, 2, 3, 4, 5, 6, 7, 8, 9, 10]\n",
            "Multiples of 3: [3, 6, 9]\n",
            "Filtered List (even multiples of 3): [6]\n"
          ]
        }
      ]
    },
    {
      "cell_type": "markdown",
      "source": [
        "## 6. How you can access keys and values simultaneously and update its value"
      ],
      "metadata": {
        "id": "auhYyjixk6FD"
      }
    },
    {
      "cell_type": "code",
      "source": [
        "my_dict = {'a': 1, 'b': 2, 'c': 3, 'd': 4}\n",
        "for key, value in my_dict.items():\n",
        "    print(\"Key:\", key, \"| Value:\", value)\n",
        "target_key = 'b'\n",
        "new_value = 10\n",
        "my_dict[target_key] = new_value\n",
        "print(\"\\n Updated Dictionary:\")\n",
        "for key, value in my_dict.items():\n",
        "    print(\"Key:\", key, \"| Value:\", value)"
      ],
      "metadata": {
        "colab": {
          "base_uri": "https://localhost:8080/"
        },
        "id": "p04WWumL5KZd",
        "outputId": "2c81697d-940b-4b8c-8017-1f8ce85acda1"
      },
      "execution_count": null,
      "outputs": [
        {
          "output_type": "stream",
          "name": "stdout",
          "text": [
            "Key: a | Value: 1\n",
            "Key: b | Value: 2\n",
            "Key: c | Value: 3\n",
            "Key: d | Value: 4\n",
            "\n",
            " Updated Dictionary:\n",
            "Key: a | Value: 1\n",
            "Key: b | Value: 10\n",
            "Key: c | Value: 3\n",
            "Key: d | Value: 4\n"
          ]
        }
      ]
    },
    {
      "cell_type": "markdown",
      "source": [
        "## 7. Write python program to join, merge, concatente the two dictionaries..\n"
      ],
      "metadata": {
        "id": "vV00n0awk5_G"
      }
    },
    {
      "cell_type": "code",
      "source": [
        "dict1 = {'A': 1, 'B': 4, 'C': 3}\n",
        "dict2 = {'D': 2, 'E': 5, 'F': 5}\n",
        "merged_dict = dict1.copy()\n",
        "merged_dict.update(dict2)\n",
        "concatenated_dict = {**dict1, **dict2}\n",
        "print(\"Org dict 1:\", dict1)\n",
        "print(\"Org dict 2:\", dict2)\n",
        "print(\"Merged dict:\", merged_dict)\n",
        "print(\"Concatenated dict:\", concatenated_dict)"
      ],
      "metadata": {
        "colab": {
          "base_uri": "https://localhost:8080/"
        },
        "id": "umcFc3Fe5MsC",
        "outputId": "978fab3c-34e9-414b-bf32-14ddf8d6e47f"
      },
      "execution_count": null,
      "outputs": [
        {
          "output_type": "stream",
          "name": "stdout",
          "text": [
            "Org dict 1: {'A': 1, 'B': 4, 'C': 3}\n",
            "Org dict 2: {'D': 2, 'E': 5, 'F': 5}\n",
            "Merged dict: {'A': 1, 'B': 4, 'C': 3, 'D': 2, 'E': 5, 'F': 5}\n",
            "Concatenated dict: {'A': 1, 'B': 4, 'C': 3, 'D': 2, 'E': 5, 'F': 5}\n"
          ]
        }
      ]
    },
    {
      "cell_type": "markdown",
      "source": [
        "## 8. How would you check a specific keys from the dictionary??\n"
      ],
      "metadata": {
        "id": "Z_7dpypWnQ-z"
      }
    },
    {
      "cell_type": "code",
      "source": [
        "my_dict = {'a': 1, 'b': 2, 'c': 3, 'd': 4}\n",
        "keys_to_check = ['b', 'e']\n",
        "for key in keys_to_check:\n",
        "    value = my_dict.get(key)\n",
        "    if value is not None:\n",
        "        print(f\"{key} exists dictionary with the value: {value}\")\n",
        "    else:\n",
        "        print(f\"{key} does not exist in the dictionary\")\n"
      ],
      "metadata": {
        "colab": {
          "base_uri": "https://localhost:8080/"
        },
        "id": "fPJ1MuUj5eWt",
        "outputId": "41db553c-4497-4402-a8a0-7bed9748b497"
      },
      "execution_count": null,
      "outputs": [
        {
          "output_type": "stream",
          "name": "stdout",
          "text": [
            "b exists dictionary with the value: 2\n",
            "e does not exist in the dictionary\n"
          ]
        }
      ]
    },
    {
      "cell_type": "markdown",
      "source": [
        "## 9. write a python program to find the unique vowel present in the sentence"
      ],
      "metadata": {
        "id": "EjxeB4ntnirH"
      }
    },
    {
      "cell_type": "code",
      "source": [
        "input_sentence = input(\"Enter a word: \")\n",
        "unique_vowels = sorted(set(char for char in input_sentence.lower() if char in \"aeiou\"))\n",
        "print(\"Unique vowels in the word:\", unique_vowels)"
      ],
      "metadata": {
        "colab": {
          "base_uri": "https://localhost:8080/"
        },
        "id": "t4YncBoi5lPp",
        "outputId": "c70968e5-b6f6-4655-820a-c2074e72d49d"
      },
      "execution_count": null,
      "outputs": [
        {
          "output_type": "stream",
          "name": "stdout",
          "text": [
            "Enter a word: ravi\n",
            "Unique vowels in the word: ['a', 'i']\n"
          ]
        }
      ]
    },
    {
      "cell_type": "markdown",
      "source": [
        "## 10. We know that tuple is immutable, do any thing and add element to the tuples."
      ],
      "metadata": {
        "id": "B1VBImcfns6V"
      }
    },
    {
      "cell_type": "code",
      "source": [
        "tuple1 = (1, 2, 3)\n",
        "tuple2 = (4, 5, 6)\n",
        "concatenated_tuple = tuple1 + tuple2\n",
        "repeated_tuple1 = tuple1 * 2\n",
        "new_tuple = tuple1 + (4, 5)\n",
        "print(concatenated_tuple)\n",
        "print(repeated_tuple1)\n",
        "print(new_tuple)"
      ],
      "metadata": {
        "colab": {
          "base_uri": "https://localhost:8080/"
        },
        "id": "Y1112gvL5se5",
        "outputId": "d3c789fb-4cb8-4479-b648-e4888bab6c0a"
      },
      "execution_count": null,
      "outputs": [
        {
          "output_type": "stream",
          "name": "stdout",
          "text": [
            "(1, 2, 3, 4, 5, 6)\n",
            "(1, 2, 3, 1, 2, 3)\n",
            "(1, 2, 3, 4, 5)\n"
          ]
        }
      ]
    },
    {
      "cell_type": "markdown",
      "source": [
        "## 11. How would you sum the list of tuple and sum of tuple of list\n",
        "list  = [(2,3),(4,5),(6,4)]\n",
        "output= [5,9,10]\n",
        "\n",
        "tuple  =([2,3],[4,5],[6,4])\n",
        "output  =  (5,9,10)"
      ],
      "metadata": {
        "id": "Yd7tDQHuoGFm"
      }
    },
    {
      "cell_type": "code",
      "source": [
        "list_of_tuples = [(1, 2), (3, 4), (5, 6)]\n",
        "sum_of_list_of_tuples = tuple(map(sum, zip(*list_of_tuples)))\n",
        "print(\"Sum of List of Tuples:\", sum_of_list_of_tuples)"
      ],
      "metadata": {
        "colab": {
          "base_uri": "https://localhost:8080/"
        },
        "id": "KL1xKhv-5_CU",
        "outputId": "4a5ba964-29a2-424e-a84d-54855e4f3f63"
      },
      "execution_count": null,
      "outputs": [
        {
          "output_type": "stream",
          "name": "stdout",
          "text": [
            "Sum of List of Tuples: (9, 12)\n"
          ]
        }
      ]
    },
    {
      "cell_type": "code",
      "source": [
        "tuple_of_lists = ([1, 2, 3], [4, 5, 6], [7, 8, 9])\n",
        "sum_of_tuple_of_lists = [sum(x) for x in zip(*tuple_of_lists)]\n",
        "print(\"Sum of Tuple of Lists:\", sum_of_tuple_of_lists)"
      ],
      "metadata": {
        "colab": {
          "base_uri": "https://localhost:8080/"
        },
        "id": "twEws5kG6FAI",
        "outputId": "dea9594d-0fff-454f-a06b-574ad1b5367a"
      },
      "execution_count": null,
      "outputs": [
        {
          "output_type": "stream",
          "name": "stdout",
          "text": [
            "Sum of Tuple of Lists: [12, 15, 18]\n"
          ]
        }
      ]
    },
    {
      "cell_type": "markdown",
      "source": [
        "## 12. FIND THE FREQUENCY OF THE KEYS IN THE GIVEN DICTIONARY"
      ],
      "metadata": {
        "id": "YiXg_vDpoq7X"
      }
    },
    {
      "cell_type": "code",
      "source": [
        "from collections import Counter\n",
        "my_dict = {'a': 1, 'b': 4, 'c': 3, 'a': 2, 'b': 5, 'a': 5}\n",
        "key_frequency = Counter(my_dict)\n",
        "for key, frequency in key_frequency.items():\n",
        "    print(f\"The key '{key}' appears {frequency} times in the dict.\")"
      ],
      "metadata": {
        "colab": {
          "base_uri": "https://localhost:8080/"
        },
        "id": "irytBP7Y6MEO",
        "outputId": "ea8de525-4285-4440-82a4-4d6adf443831"
      },
      "execution_count": null,
      "outputs": [
        {
          "output_type": "stream",
          "name": "stdout",
          "text": [
            "The key 'a' appears 5 times in the dict.\n",
            "The key 'b' appears 5 times in the dict.\n",
            "The key 'c' appears 3 times in the dict.\n"
          ]
        }
      ]
    }
  ]
}